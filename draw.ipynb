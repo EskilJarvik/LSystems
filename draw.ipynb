{
 "cells": [
  {
   "cell_type": "code",
   "execution_count": 31,
   "metadata": {},
   "outputs": [
    {
     "data": {
      "application/vnd.jupyter.widget-view+json": {
       "model_id": "0dac67d385c544d48cbe20db4878a47e",
       "version_major": 2,
       "version_minor": 0
      },
      "text/plain": [
       "Canvas(height=300, width=300)"
      ]
     },
     "metadata": {},
     "output_type": "display_data"
    }
   ],
   "source": [
    "from ipycanvas import Canvas\n",
    "import numpy as np \n",
    "\n",
    "\n",
    "displayWidth  = 300\n",
    "displayHeight = 300\n",
    "\n",
    "canvas = Canvas(width = displayWidth, height = displayHeight)\n",
    "canvas.stroke_style = \"black\"\n",
    "\n",
    "#testing\n",
    "string = \"FFFFFFFF[+FFFF[+FF[+F[+X]F[-X]+X]FF[-F[+X]F[-X]+X]+F[+X]F[-X]+X]FFFF[-FF[+F[+X]F[-X]+X]FF[-F[+X]F[-X]+X]+F[+X]F[-X]+X]+FF[+F[+X]F[-X]+X]FF[-F[+X]F[-X]+X]+F[+X]F[-X]+X]FFFFFFFF[-FFFF[+FF[+F[+X]F[-X]+X]FF[-F[+X]F[-X]+X]+F[+X]F[-X]+X]FFFF[-FF[+F[+X]F[-X]+X]FF[-F[+X]F[-X]+X]+F[+X]F[-X]+X]+FF[+F[+X]F[-X]+X]FF[-F[+X]F[-X]+X]+F[+X]F[-X]+X]+FFFF[+FF[+F[+X]F[-X]+X]FF[-F[+X]F[-X]+X]+F[+X]F[-X]+X]FFFF[-FF[+F[+X]F[-X]+X]FF[-F[+X]F[-X]+X]+F[+X]F[-X]+X]+FF[+F[+X]F[-X]+X]FF[-F[+X]F[-X]+X]+F[+X]F[-X]+X\"\n",
    "x = displayWidth/2\n",
    "y = displayHeight\n",
    "\n",
    "\n",
    "angle = 90\n",
    "length = 10\n",
    "\n",
    "stack = []\n",
    "\n",
    "movment = {\n",
    "    \"F\": 0,\n",
    "    \"X\": 0,\n",
    "}\n",
    "\n",
    "direction = {\n",
    "    \"+\": 20,\n",
    "    \"-\": -20\n",
    "}\n",
    "\n",
    "for c in string:\n",
    "\n",
    "    # change direction of travel\n",
    "    if c in direction:\n",
    "        angle += int(direction[c])\n",
    "\n",
    "    # create line\n",
    "    elif c in movment:\n",
    "        move = movment[c]\n",
    "\n",
    "        # calculate angle\n",
    "        toRad = int(angle) * (np.pi/180) \n",
    "\n",
    "        #next x and y value\n",
    "        x2 = x - (int(length * np.cos(toRad)))\n",
    "        y2 = y - length * np.sin(toRad)\n",
    "\n",
    "        #draw line\n",
    "        canvas.stroke_line(x, y, x2, y2)\n",
    "\n",
    "        #change current pos\n",
    "        x =  x2\n",
    "        y = y2\n",
    "\n",
    "    #go back\n",
    "    elif c == \"]\":\n",
    "        goTo = stack[-1]\n",
    "        x = goTo[0]\n",
    "        y = goTo[1]\n",
    "        angle = goTo[2]\n",
    "        stack.pop()\n",
    "\n",
    "    #add pos to stack\n",
    "    elif c == \"[\":\n",
    "        stack.append([x,y, angle])\n",
    "\n",
    "display(canvas)"
   ]
  }
 ],
 "metadata": {
  "kernelspec": {
   "display_name": "Python 3",
   "language": "python",
   "name": "python3"
  },
  "language_info": {
   "codemirror_mode": {
    "name": "ipython",
    "version": 3
   },
   "file_extension": ".py",
   "mimetype": "text/x-python",
   "name": "python",
   "nbconvert_exporter": "python",
   "pygments_lexer": "ipython3",
   "version": "3.10.6"
  },
  "orig_nbformat": 4
 },
 "nbformat": 4,
 "nbformat_minor": 2
}
